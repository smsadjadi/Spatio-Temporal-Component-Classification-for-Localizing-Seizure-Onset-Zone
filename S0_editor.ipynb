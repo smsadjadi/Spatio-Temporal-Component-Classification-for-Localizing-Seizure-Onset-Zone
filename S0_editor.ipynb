{
 "cells": [
  {
   "cell_type": "code",
   "execution_count": 1,
   "metadata": {},
   "outputs": [],
   "source": [
    "import pandas as pd\n",
    "import numpy as np\n",
    "import os\n",
    "from dataloaders import *\n",
    "from utils import *\n",
    "from EDA import *"
   ]
  },
  {
   "cell_type": "markdown",
   "metadata": {},
   "source": [
    "## Rename Directories"
   ]
  },
  {
   "cell_type": "code",
   "execution_count": null,
   "metadata": {},
   "outputs": [],
   "source": [
    "directory_to_process = \"./\"\n",
    "suffix_to_remove = ' (1)'\n",
    "rename_folders(directory_to_process, suffix_to_remove)"
   ]
  },
  {
   "cell_type": "markdown",
   "metadata": {},
   "source": [
    "## Rename Files"
   ]
  },
  {
   "cell_type": "code",
   "execution_count": null,
   "metadata": {},
   "outputs": [],
   "source": [
    "ids = ('01', '02', '03', '04', '05', '06', '07', '08', '09', '10')\n",
    "\n",
    "for id in ids:\n",
    "    directory_to_process = f\"D:\\Academic\\Datasets\\Epilepsy_rsfMRI_Fallahi\\Sub0{id}\"\n",
    "    rename_files(directory_to_process, 'mni.mat', 'mnilr.mat')\n",
    "\n",
    "    directory_to_process = f\"D:\\Academic\\Datasets\\Epilepsy_rsfMRI_Fallahi\\Sub0{id}\\post_t1\"\n",
    "    rename_files(directory_to_process, 'post_t1_normalized.nii.gz', 'post_t1_normalized_hr.nii.gz')\n",
    "    rename_files(directory_to_process, 'post_t1_normalized_2mm.nii.gz', 'post_t1_normalized_lr.nii.gz')\n",
    "    \n",
    "    directory_to_process = f\"D:\\Academic\\Datasets\\Epilepsy_rsfMRI_Fallahi\\Sub0{id}\\pre_t1\"\n",
    "    rename_files(directory_to_process, 'pre_t1_brain_normalized.nii.gz', 'pre_t1_brain_normalized_lr.nii.gz')"
   ]
  },
  {
   "cell_type": "markdown",
   "metadata": {},
   "source": [
    "## Rename CSV Column"
   ]
  },
  {
   "cell_type": "code",
   "execution_count": null,
   "metadata": {},
   "outputs": [],
   "source": [
    "folder_path = 'results'\n",
    "old_column_name = 'Non-Gaussianity'\n",
    "new_column_name = 'tICs Max Non-Gaussianity'\n",
    "\n",
    "rename_column_in_csv(folder_path, old_column_name, new_column_name)\n"
   ]
  },
  {
   "cell_type": "markdown",
   "metadata": {},
   "source": [
    "## Slice Order Extraction"
   ]
  },
  {
   "cell_type": "code",
   "execution_count": null,
   "metadata": {},
   "outputs": [
    {
     "name": "stdout",
     "output_type": "stream",
     "text": [
      "[ 2  4  6  8 10 12 14 16 18 20 22 24 26 28 30 32 34 36 38 40 42 44 46 48\n",
      " 50 52 54  1  3  5  7  9 11 13 15 17 19 21 23 25 27 29 31 33 35 37 39 41\n",
      " 43 45 47 49 51 53]\n"
     ]
    }
   ],
   "source": [
    "# Provided SliceTiming vector\n",
    "slice_timing = [1.49, 0, 1.545, 0.055, 1.6, 0.11, 1.655, 0.165, 1.71, 0.22,\n",
    "                1.765, 0.275, 1.82, 0.33, 1.875, 0.3875, 1.9325, 0.4425,\n",
    "                1.9875, 0.4975, 2.0425, 0.5525, 2.0975, 0.6075, 2.1525,\n",
    "                0.6625, 2.2075, 0.7175, 2.2625, 0.7725, 2.3175, 0.8275,\n",
    "                2.3725, 0.8825, 2.4275, 0.9375, 2.4825, 0.9925, 2.5375,\n",
    "                1.0475, 2.5925, 1.1025, 2.6475, 1.16, 2.705, 1.215, 2.76,\n",
    "                1.27, 2.815, 1.325, 2.87, 1.38, 2.925, 1.435]\n",
    "\n",
    "slice_order = slice_timing_to_order(slice_timing)\n",
    "print(slice_order)"
   ]
  }
 ],
 "metadata": {
  "kernelspec": {
   "display_name": "neuroimaging",
   "language": "python",
   "name": "python3"
  },
  "language_info": {
   "codemirror_mode": {
    "name": "ipython",
    "version": 3
   },
   "file_extension": ".py",
   "mimetype": "text/x-python",
   "name": "python",
   "nbconvert_exporter": "python",
   "pygments_lexer": "ipython3",
   "version": "3.9.16"
  }
 },
 "nbformat": 4,
 "nbformat_minor": 2
}
