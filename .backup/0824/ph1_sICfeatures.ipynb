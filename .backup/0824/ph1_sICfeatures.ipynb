{
 "cells": [
  {
   "cell_type": "code",
   "execution_count": 12,
   "metadata": {},
   "outputs": [],
   "source": [
    "import numpy as np\n",
    "import pandas as pd\n",
    "from dataloaders import *\n",
    "from utils import *\n",
    "from EDA import *\n",
    "import config"
   ]
  },
  {
   "cell_type": "code",
   "execution_count": 2,
   "metadata": {},
   "outputs": [],
   "source": [
    "dataset_dir = config.dataset_dir\n",
    "subject_id = np.arange(10)+1\n",
    "sic_candidate = np.arange(30)+1"
   ]
  },
  {
   "cell_type": "code",
   "execution_count": null,
   "metadata": {},
   "outputs": [],
   "source": [
    "bold, _ = data_import(dataset    = dataset_dir,\n",
    "                      subject_id = subject_id,\n",
    "                      subfolder  = 'Analysis.ica',\n",
    "                      data_name  = ['filtered_func_data'])\n",
    "\n",
    "fmri_data = bold['filtered_func_data'].get_fdata()\n",
    "\n",
    "sica, _ = data_import(dataset    = dataset_dir,\n",
    "                             subject_id = subject_id,\n",
    "                             subfolder  = 'Analysis.ica\\\\filtered_func_data.ica',\n",
    "                             data_name  = ['mask','melodic_IC'])\n",
    "\n",
    "selected_ic = ic_extract(sica['melodic_IC'],sic_candidate)\n",
    "\n",
    "_, selected_ic_cluster = ic_browse(selected_ic = selected_ic,\n",
    "                                   criterion   = selected_ic >= 3.1,\n",
    "                                   affine      = sica['melodic_IC'].affine,\n",
    "                                   show        = False)\n",
    "\n",
    "selected_ic_cluster = morphological_operation(selected_ic_cluster)\n",
    "\n",
    "max_value, _ = ic_browse(selected_ic = selected_ic,\n",
    "                         criterion   = selected_ic >= selected_ic.max(),\n",
    "                         affine      = sica['melodic_IC'].affine,\n",
    "                         show        = False)\n",
    "\n",
    "LI_result = lateralization_index(selected_ic)\n",
    "BLI_result = binary_lateralization(selected_ic_cluster)\n",
    "selected_ic_mask = mask_cc_around_coordinate(selected_ic_cluster, max_value[\"Max_index\"][0])\n",
    "connectivity_matrix = cluster_connectivity_ds(fmri_data, selected_ic_mask, downsample_factor=5)\n",
    "central_network_strength = voxel_network_strength(fmri_data, selected_ic_mask, max_value[\"Max_index\"][0])\n",
    "random_matrices = generate_random_matrices(connectivity_matrix, num_random_matrices=500)\n",
    "TLI_result = compute_topological_measures(connectivity_matrix, random_matrices)"
   ]
  },
  {
   "cell_type": "code",
   "execution_count": 10,
   "metadata": {},
   "outputs": [],
   "source": [
    "sIC_Features = {\n",
    "    'Subject ID': subject_id,\n",
    "    'sIC Number': sic_candidate,\n",
    "    'sIC Center': max_value['MNI_coords'],\n",
    "    'Lateralization Index': LI_result['Lateralization Index'],\n",
    "    'Lateralization Strength': BLI_result['Lateralization Strength'],\n",
    "    'Lateralization Side': BLI_result['Side'],\n",
    "    'Centeral Network': central_network_strength,\n",
    "    'Clustering Coefficient': TLI_result['Clustering Coefficient'],\n",
    "    'Characteristic Path Length': TLI_result['Characteristic Path Length'],\n",
    "    'Local Efficiency': TLI_result['Local Efficiency'],\n",
    "    'Connectivity Strength': TLI_result['Connectivity Strength'],\n",
    "    'Connectivity Diversity': TLI_result['Connectivity Diversity'],  \n",
    "}\n",
    "\n",
    "df = pd.DataFrame(sIC_Features, index=[0])\n",
    "results_path = f'results/Sub{subject_id}_sIC_Features.csv'\n",
    "\n",
    "if os.path.isfile(results_path):\n",
    "    df.to_csv(results_path, mode='a', index=False, header=False)\n",
    "else:\n",
    "    df.to_csv(results_path, index=False, header=True)"
   ]
  }
 ],
 "metadata": {
  "kernelspec": {
   "display_name": "neuroimaging",
   "language": "python",
   "name": "python3"
  },
  "language_info": {
   "codemirror_mode": {
    "name": "ipython",
    "version": 3
   },
   "file_extension": ".py",
   "mimetype": "text/x-python",
   "name": "python",
   "nbconvert_exporter": "python",
   "pygments_lexer": "ipython3",
   "version": "3.9.16"
  }
 },
 "nbformat": 4,
 "nbformat_minor": 2
}
